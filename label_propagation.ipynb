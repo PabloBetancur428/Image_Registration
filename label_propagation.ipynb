{
 "cells": [
  {
   "cell_type": "markdown",
   "metadata": {},
   "source": [
    "# Label propagation"
   ]
  },
  {
   "cell_type": "code",
   "execution_count": 9,
   "metadata": {},
   "outputs": [],
   "source": [
    "import nibabel as nib\n",
    "import numpy as np\n",
    "import os"
   ]
  },
  {
   "cell_type": "code",
   "execution_count": null,
   "metadata": {},
   "outputs": [],
   "source": [
    "def load_image(image_path):\n",
    "    # Load the image using nibabel\n",
    "    image = nib.load(image_path)\n",
    "    data = image.get_fdata()\n",
    "    return data, image.affine\n",
    "\n",
    "test_image_path = r\"C:\\Users\\User\\Desktop\\UDG_old_pc\\UDG\\Subjects\\MISSSSSA\\Atlas_part2\\test-set\\testing-images\\1003.nii.gz\".replace(\"\\\\\",\"/\")\n",
    "csf_prob_map_path = r\"C:\\Users\\User\\Desktop\\UDG_old_pc\\UDG\\Subjects\\MISSSSSA\\Atlas_part2\\Code\\Outputs_MNI\\MapsRigid\\1003.nii\\CSF_final_transformed_1003.nii.nii\".replace(\"\\\\\",\"/\")\n",
    "wm_prob_map_path = r\"C:\\Users\\User\\Desktop\\UDG_old_pc\\UDG\\Subjects\\MISSSSSA\\Atlas_part2\\Code\\Outputs_MNI\\MapsRigid\\1003.nii\\WM_final_transformed_1003.nii.nii\".replace(\"\\\\\",\"/\")\n",
    "gm_prob_map_path = r\"C:\\Users\\User\\Desktop\\UDG_old_pc\\UDG\\Subjects\\MISSSSSA\\Atlas_part2\\Code\\Outputs_MNI\\MapsRigid\\1003.nii\\GM_final_transformed_1003.nii.nii\".replace(\"\\\\\",\"/\")\n",
    "\n",
    "test_image, affine = load_image(test_image_path)\n",
    "\n",
    "#prob maps\n",
    "\n",
    "csf_prob_map, _ = load_image(csf_prob_map_path)\n",
    "wm_prob_map, _ = load_image(wm_prob_map_path)\n",
    "gm_prob_map, _ = load_image(gm_prob_map_path)"
   ]
  },
  {
   "cell_type": "code",
   "execution_count": null,
   "metadata": {},
   "outputs": [
    {
     "name": "stdout",
     "output_type": "stream",
     "text": [
      "(256, 316, 256)\n",
      "(256, 316, 256)\n",
      "(256, 316, 256)\n"
     ]
    }
   ],
   "source": [
    "print(csf_prob_map.shape)\n",
    "print(wm_prob_map.shape)\n",
    "print(gm_prob_map.shape)"
   ]
  },
  {
   "cell_type": "markdown",
   "metadata": {},
   "source": [
    "# Create labels based on max prob"
   ]
  },
  {
   "cell_type": "code",
   "execution_count": null,
   "metadata": {},
   "outputs": [
    {
     "ename": "ValueError",
     "evalue": "Image data has type int64, which may cause incompatibilities with other tools. To use this type, pass an explicit header or dtype argument to Nifti1Image().",
     "output_type": "error",
     "traceback": [
      "\u001b[1;31m---------------------------------------------------------------------------\u001b[0m",
      "\u001b[1;31mValueError\u001b[0m                                Traceback (most recent call last)",
      "Cell \u001b[1;32mIn[14], line 16\u001b[0m\n\u001b[0;32m     14\u001b[0m label_image \u001b[38;5;241m=\u001b[39m create_label_image_with_argmax(csf_prob_map, wm_prob_map, gm_prob_map)\n\u001b[0;32m     15\u001b[0m output_path \u001b[38;5;241m=\u001b[39m \u001b[38;5;124mr\u001b[39m\u001b[38;5;124m\"\u001b[39m\u001b[38;5;124mC:\u001b[39m\u001b[38;5;124m\\\u001b[39m\u001b[38;5;124mUsers\u001b[39m\u001b[38;5;124m\\\u001b[39m\u001b[38;5;124mUser\u001b[39m\u001b[38;5;124m\\\u001b[39m\u001b[38;5;124mDesktop\u001b[39m\u001b[38;5;124m\\\u001b[39m\u001b[38;5;124mUDG_old_pc\u001b[39m\u001b[38;5;124m\\\u001b[39m\u001b[38;5;124mUDG\u001b[39m\u001b[38;5;124m\\\u001b[39m\u001b[38;5;124mSubjects\u001b[39m\u001b[38;5;124m\\\u001b[39m\u001b[38;5;124mMISSSSSA\u001b[39m\u001b[38;5;124m\\\u001b[39m\u001b[38;5;124mAtlas_part2\u001b[39m\u001b[38;5;124m\\\u001b[39m\u001b[38;5;124mCode\u001b[39m\u001b[38;5;124m\\\u001b[39m\u001b[38;5;124mLabel_prop\u001b[39m\u001b[38;5;124m\\\u001b[39m\u001b[38;5;124mlabel_prop_prueba_argmax\u001b[39m\u001b[38;5;124m\"\u001b[39m\u001b[38;5;241m.\u001b[39mreplace(\u001b[38;5;124m\"\u001b[39m\u001b[38;5;130;01m\\\\\u001b[39;00m\u001b[38;5;124m\"\u001b[39m, \u001b[38;5;124m\"\u001b[39m\u001b[38;5;124m/\u001b[39m\u001b[38;5;124m\"\u001b[39m)\n\u001b[1;32m---> 16\u001b[0m \u001b[43msave_label_image\u001b[49m\u001b[43m(\u001b[49m\u001b[43mlabel_image\u001b[49m\u001b[43m,\u001b[49m\u001b[43m \u001b[49m\u001b[43maffine\u001b[49m\u001b[43m,\u001b[49m\u001b[43m \u001b[49m\u001b[43moutput_path\u001b[49m\u001b[43m)\u001b[49m\n",
      "Cell \u001b[1;32mIn[14], line 11\u001b[0m, in \u001b[0;36msave_label_image\u001b[1;34m(label_image, affine, output_path)\u001b[0m\n\u001b[0;32m     10\u001b[0m \u001b[38;5;28;01mdef\u001b[39;00m \u001b[38;5;21msave_label_image\u001b[39m(label_image, affine, output_path):\n\u001b[1;32m---> 11\u001b[0m     label_nifti \u001b[38;5;241m=\u001b[39m \u001b[43mnib\u001b[49m\u001b[38;5;241;43m.\u001b[39;49m\u001b[43mNifti1Image\u001b[49m\u001b[43m(\u001b[49m\u001b[43mlabel_image\u001b[49m\u001b[43m,\u001b[49m\u001b[43m \u001b[49m\u001b[43maffine\u001b[49m\u001b[43m)\u001b[49m\n\u001b[0;32m     12\u001b[0m     nib\u001b[38;5;241m.\u001b[39msave(label_nifti, output_path)\n",
      "File \u001b[1;32mc:\\Users\\User\\Desktop\\UDG_old_pc\\UDG\\Subjects\\MISSSSSA\\Atlas_part2\\Code\\atlas_v\\Lib\\site-packages\\nibabel\\nifti1.py:1996\u001b[0m, in \u001b[0;36mNifti1Pair.__init__\u001b[1;34m(self, dataobj, affine, header, extra, file_map, dtype)\u001b[0m\n\u001b[0;32m   1994\u001b[0m danger_dts \u001b[38;5;241m=\u001b[39m (np\u001b[38;5;241m.\u001b[39mdtype(\u001b[38;5;124m'\u001b[39m\u001b[38;5;124mint64\u001b[39m\u001b[38;5;124m'\u001b[39m), np\u001b[38;5;241m.\u001b[39mdtype(\u001b[38;5;124m'\u001b[39m\u001b[38;5;124muint64\u001b[39m\u001b[38;5;124m'\u001b[39m))\n\u001b[0;32m   1995\u001b[0m \u001b[38;5;28;01mif\u001b[39;00m header \u001b[38;5;129;01mis\u001b[39;00m \u001b[38;5;28;01mNone\u001b[39;00m \u001b[38;5;129;01mand\u001b[39;00m dtype \u001b[38;5;129;01mis\u001b[39;00m \u001b[38;5;28;01mNone\u001b[39;00m \u001b[38;5;129;01mand\u001b[39;00m get_obj_dtype(dataobj) \u001b[38;5;129;01min\u001b[39;00m danger_dts:\n\u001b[1;32m-> 1996\u001b[0m     \u001b[43malert_future_error\u001b[49m\u001b[43m(\u001b[49m\n\u001b[0;32m   1997\u001b[0m \u001b[43m        \u001b[49m\u001b[38;5;124;43mf\u001b[39;49m\u001b[38;5;124;43m'\u001b[39;49m\u001b[38;5;124;43mImage data has type \u001b[39;49m\u001b[38;5;132;43;01m{\u001b[39;49;00m\u001b[43mdataobj\u001b[49m\u001b[38;5;241;43m.\u001b[39;49m\u001b[43mdtype\u001b[49m\u001b[38;5;132;43;01m}\u001b[39;49;00m\u001b[38;5;124;43m, which may cause \u001b[39;49m\u001b[38;5;124;43m'\u001b[39;49m\n\u001b[0;32m   1998\u001b[0m \u001b[43m        \u001b[49m\u001b[38;5;124;43m'\u001b[39;49m\u001b[38;5;124;43mincompatibilities with other tools.\u001b[39;49m\u001b[38;5;124;43m'\u001b[39;49m\u001b[43m,\u001b[49m\n\u001b[0;32m   1999\u001b[0m \u001b[43m        \u001b[49m\u001b[38;5;124;43m'\u001b[39;49m\u001b[38;5;124;43m5.0\u001b[39;49m\u001b[38;5;124;43m'\u001b[39;49m\u001b[43m,\u001b[49m\n\u001b[0;32m   2000\u001b[0m \u001b[43m        \u001b[49m\u001b[43mwarning_rec\u001b[49m\u001b[38;5;241;43m=\u001b[39;49m\u001b[38;5;124;43m'\u001b[39;49m\u001b[38;5;124;43mThis warning can be silenced by passing the dtype argument\u001b[39;49m\u001b[38;5;124;43m'\u001b[39;49m\n\u001b[0;32m   2001\u001b[0m \u001b[43m        \u001b[49m\u001b[38;5;124;43mf\u001b[39;49m\u001b[38;5;124;43m'\u001b[39;49m\u001b[38;5;124;43m to \u001b[39;49m\u001b[38;5;132;43;01m{\u001b[39;49;00m\u001b[38;5;28;43mself\u001b[39;49m\u001b[38;5;241;43m.\u001b[39;49m\u001b[38;5;18;43m__class__\u001b[39;49m\u001b[38;5;241;43m.\u001b[39;49m\u001b[38;5;18;43m__name__\u001b[39;49m\u001b[38;5;132;43;01m}\u001b[39;49;00m\u001b[38;5;124;43m().\u001b[39;49m\u001b[38;5;124;43m'\u001b[39;49m\u001b[43m,\u001b[49m\n\u001b[0;32m   2002\u001b[0m \u001b[43m        \u001b[49m\u001b[43merror_rec\u001b[49m\u001b[38;5;241;43m=\u001b[39;49m\u001b[38;5;124;43m'\u001b[39;49m\u001b[38;5;124;43mTo use this type, pass an explicit header or dtype argument\u001b[39;49m\u001b[38;5;124;43m'\u001b[39;49m\n\u001b[0;32m   2003\u001b[0m \u001b[43m        \u001b[49m\u001b[38;5;124;43mf\u001b[39;49m\u001b[38;5;124;43m'\u001b[39;49m\u001b[38;5;124;43m to \u001b[39;49m\u001b[38;5;132;43;01m{\u001b[39;49;00m\u001b[38;5;28;43mself\u001b[39;49m\u001b[38;5;241;43m.\u001b[39;49m\u001b[38;5;18;43m__class__\u001b[39;49m\u001b[38;5;241;43m.\u001b[39;49m\u001b[38;5;18;43m__name__\u001b[39;49m\u001b[38;5;132;43;01m}\u001b[39;49;00m\u001b[38;5;124;43m().\u001b[39;49m\u001b[38;5;124;43m'\u001b[39;49m\u001b[43m,\u001b[49m\n\u001b[0;32m   2004\u001b[0m \u001b[43m        \u001b[49m\u001b[43merror_class\u001b[49m\u001b[38;5;241;43m=\u001b[39;49m\u001b[38;5;167;43;01mValueError\u001b[39;49;00m\u001b[43m,\u001b[49m\n\u001b[0;32m   2005\u001b[0m \u001b[43m    \u001b[49m\u001b[43m)\u001b[49m\n\u001b[0;32m   2006\u001b[0m \u001b[38;5;28msuper\u001b[39m()\u001b[38;5;241m.\u001b[39m\u001b[38;5;21m__init__\u001b[39m(dataobj, affine, header, extra, file_map, dtype)\n\u001b[0;32m   2007\u001b[0m \u001b[38;5;66;03m# Force set of s/q form when header is None unless affine is also None\u001b[39;00m\n",
      "File \u001b[1;32mc:\\Users\\User\\Desktop\\UDG_old_pc\\UDG\\Subjects\\MISSSSSA\\Atlas_part2\\Code\\atlas_v\\Lib\\site-packages\\nibabel\\deprecated.py:121\u001b[0m, in \u001b[0;36malert_future_error\u001b[1;34m(msg, version, warning_class, error_class, warning_rec, error_rec, stacklevel)\u001b[0m\n\u001b[0;32m    119\u001b[0m     warnings\u001b[38;5;241m.\u001b[39mwarn(msg\u001b[38;5;241m.\u001b[39mstrip(), warning_class, stacklevel\u001b[38;5;241m=\u001b[39mstacklevel \u001b[38;5;241m+\u001b[39m \u001b[38;5;241m1\u001b[39m)\n\u001b[0;32m    120\u001b[0m \u001b[38;5;28;01melse\u001b[39;00m:\n\u001b[1;32m--> 121\u001b[0m     \u001b[38;5;28;01mraise\u001b[39;00m error_class(\u001b[38;5;124mf\u001b[39m\u001b[38;5;124m'\u001b[39m\u001b[38;5;132;01m{\u001b[39;00mmsg\u001b[38;5;132;01m}\u001b[39;00m\u001b[38;5;124m \u001b[39m\u001b[38;5;132;01m{\u001b[39;00merror_rec\u001b[38;5;132;01m}\u001b[39;00m\u001b[38;5;124m'\u001b[39m\u001b[38;5;241m.\u001b[39mstrip())\n",
      "\u001b[1;31mValueError\u001b[0m: Image data has type int64, which may cause incompatibilities with other tools. To use this type, pass an explicit header or dtype argument to Nifti1Image()."
     ]
    }
   ],
   "source": [
    "def create_label_image_with_argmax(csf_map, wm_map, gm_map):\n",
    "    # Stack the probability maps along a new axis\n",
    "    stacked_maps = np.stack((csf_map, wm_map, gm_map), axis=-1)\n",
    "    \n",
    "    # Find the index of the maximum probability along the new axis\n",
    "    # Add 1 to make labels 1 (CSF), 2 (WM), and 3 (GM)\n",
    "    label_image = np.argmax(stacked_maps, axis=-1) + 1\n",
    "    \n",
    "    return label_image\n",
    "def save_label_image(label_image, affine, output_path):\n",
    "    label_nifti = nib.Nifti1Image(label_image, affine)\n",
    "    nib.save(label_nifti, output_path)\n",
    "\n",
    "label_image = create_label_image_with_argmax(csf_prob_map, wm_prob_map, gm_prob_map).astype(np.float32)\n",
    "output_path = r\"C:\\Users\\User\\Desktop\\UDG_old_pc\\UDG\\Subjects\\MISSSSSA\\Atlas_part2\\Code\\Label_prop\\label_prop_prueba_argmax\".replace(\"\\\\\", \"/\")\n",
    "save_label_image(label_image, affine, output_path)"
   ]
  },
  {
   "cell_type": "code",
   "execution_count": null,
   "metadata": {},
   "outputs": [],
   "source": []
  }
 ],
 "metadata": {
  "kernelspec": {
   "display_name": "atlas_v",
   "language": "python",
   "name": "python3"
  },
  "language_info": {
   "codemirror_mode": {
    "name": "ipython",
    "version": 3
   },
   "file_extension": ".py",
   "mimetype": "text/x-python",
   "name": "python",
   "nbconvert_exporter": "python",
   "pygments_lexer": "ipython3",
   "version": "3.11.9"
  }
 },
 "nbformat": 4,
 "nbformat_minor": 2
}
